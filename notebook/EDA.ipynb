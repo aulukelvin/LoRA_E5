{
 "cells": [
  {
   "cell_type": "code",
   "execution_count": 31,
   "id": "33f6d4a1-e7e1-4f87-80a4-d50ef8124f4b",
   "metadata": {},
   "outputs": [
    {
     "data": {
      "text/html": [
       "<div>\n",
       "<style scoped>\n",
       "    .dataframe tbody tr th:only-of-type {\n",
       "        vertical-align: middle;\n",
       "    }\n",
       "\n",
       "    .dataframe tbody tr th {\n",
       "        vertical-align: top;\n",
       "    }\n",
       "\n",
       "    .dataframe thead th {\n",
       "        text-align: right;\n",
       "    }\n",
       "</style>\n",
       "<table border=\"1\" class=\"dataframe\">\n",
       "  <thead>\n",
       "    <tr style=\"text-align: right;\">\n",
       "      <th></th>\n",
       "      <th>id</th>\n",
       "      <th>qid1</th>\n",
       "      <th>qid2</th>\n",
       "      <th>question1</th>\n",
       "      <th>question2</th>\n",
       "      <th>is_duplicate</th>\n",
       "    </tr>\n",
       "  </thead>\n",
       "  <tbody>\n",
       "    <tr>\n",
       "      <th>296844</th>\n",
       "      <td>296844</td>\n",
       "      <td>2574</td>\n",
       "      <td>18273</td>\n",
       "      <td>Where can I get wonderful flavors on cupcakes ...</td>\n",
       "      <td>Where can I found different flavours for cupca...</td>\n",
       "      <td>1</td>\n",
       "    </tr>\n",
       "    <tr>\n",
       "      <th>318900</th>\n",
       "      <td>318900</td>\n",
       "      <td>444293</td>\n",
       "      <td>444294</td>\n",
       "      <td>What professions became less respected in the ...</td>\n",
       "      <td>What are the benefits of Choctaws?</td>\n",
       "      <td>0</td>\n",
       "    </tr>\n",
       "    <tr>\n",
       "      <th>403909</th>\n",
       "      <td>403909</td>\n",
       "      <td>537527</td>\n",
       "      <td>9837</td>\n",
       "      <td>Which is the best smartphone for 10000?</td>\n",
       "      <td>Smartphones: What is the best phone to buy bel...</td>\n",
       "      <td>0</td>\n",
       "    </tr>\n",
       "    <tr>\n",
       "      <th>95043</th>\n",
       "      <td>95043</td>\n",
       "      <td>158600</td>\n",
       "      <td>158601</td>\n",
       "      <td>What are the best BPO in Navi Mumbai?</td>\n",
       "      <td>What is BPO in Navi Mumbai?</td>\n",
       "      <td>0</td>\n",
       "    </tr>\n",
       "    <tr>\n",
       "      <th>369692</th>\n",
       "      <td>369692</td>\n",
       "      <td>34223</td>\n",
       "      <td>238155</td>\n",
       "      <td>How will you know if someone is gay?</td>\n",
       "      <td>How do I know your gay?</td>\n",
       "      <td>1</td>\n",
       "    </tr>\n",
       "  </tbody>\n",
       "</table>\n",
       "</div>"
      ],
      "text/plain": [
       "            id    qid1    qid2  \\\n",
       "296844  296844    2574   18273   \n",
       "318900  318900  444293  444294   \n",
       "403909  403909  537527    9837   \n",
       "95043    95043  158600  158601   \n",
       "369692  369692   34223  238155   \n",
       "\n",
       "                                                question1  \\\n",
       "296844  Where can I get wonderful flavors on cupcakes ...   \n",
       "318900  What professions became less respected in the ...   \n",
       "403909            Which is the best smartphone for 10000?   \n",
       "95043               What are the best BPO in Navi Mumbai?   \n",
       "369692               How will you know if someone is gay?   \n",
       "\n",
       "                                                question2  is_duplicate  \n",
       "296844  Where can I found different flavours for cupca...             1  \n",
       "318900                 What are the benefits of Choctaws?             0  \n",
       "403909  Smartphones: What is the best phone to buy bel...             0  \n",
       "95043                         What is BPO in Navi Mumbai?             0  \n",
       "369692                            How do I know your gay?             1  "
      ]
     },
     "execution_count": 31,
     "metadata": {},
     "output_type": "execute_result"
    }
   ],
   "source": [
    "import pandas as pd\n",
    "\n",
    "random_state = 42\n",
    "df = pd.read_csv('../data/quora_duplicate_questions.tsv', sep='\\t')\n",
    "df.sample(5)"
   ]
  },
  {
   "cell_type": "code",
   "execution_count": 15,
   "id": "4ecddfc0-08f7-4bf3-a4c8-d166f49aefd2",
   "metadata": {},
   "outputs": [
    {
     "data": {
      "text/html": [
       "<div>\n",
       "<style scoped>\n",
       "    .dataframe tbody tr th:only-of-type {\n",
       "        vertical-align: middle;\n",
       "    }\n",
       "\n",
       "    .dataframe tbody tr th {\n",
       "        vertical-align: top;\n",
       "    }\n",
       "\n",
       "    .dataframe thead th {\n",
       "        text-align: right;\n",
       "    }\n",
       "</style>\n",
       "<table border=\"1\" class=\"dataframe\">\n",
       "  <thead>\n",
       "    <tr style=\"text-align: right;\">\n",
       "      <th></th>\n",
       "      <th>id</th>\n",
       "      <th>question1</th>\n",
       "      <th>question2</th>\n",
       "      <th>is_duplicate</th>\n",
       "    </tr>\n",
       "  </thead>\n",
       "  <tbody>\n",
       "    <tr>\n",
       "      <th>5</th>\n",
       "      <td>5</td>\n",
       "      <td>Astrology: I am a Capricorn Sun Cap moon and c...</td>\n",
       "      <td>I'm a triple Capricorn (Sun, Moon and ascendan...</td>\n",
       "      <td>1</td>\n",
       "    </tr>\n",
       "    <tr>\n",
       "      <th>14</th>\n",
       "      <td>14</td>\n",
       "      <td>What are the laws to change your status from a...</td>\n",
       "      <td>What are the laws to change your status from a...</td>\n",
       "      <td>0</td>\n",
       "    </tr>\n",
       "    <tr>\n",
       "      <th>15</th>\n",
       "      <td>15</td>\n",
       "      <td>What would a Trump presidency mean for current...</td>\n",
       "      <td>How will a Trump presidency affect the student...</td>\n",
       "      <td>1</td>\n",
       "    </tr>\n",
       "    <tr>\n",
       "      <th>18</th>\n",
       "      <td>18</td>\n",
       "      <td>Why are so many Quora users posting questions ...</td>\n",
       "      <td>Why do people ask Quora questions which can be...</td>\n",
       "      <td>1</td>\n",
       "    </tr>\n",
       "    <tr>\n",
       "      <th>25</th>\n",
       "      <td>25</td>\n",
       "      <td>What are some tips on making it through the jo...</td>\n",
       "      <td>What are some tips on making it through the jo...</td>\n",
       "      <td>0</td>\n",
       "    </tr>\n",
       "    <tr>\n",
       "      <th>...</th>\n",
       "      <td>...</td>\n",
       "      <td>...</td>\n",
       "      <td>...</td>\n",
       "      <td>...</td>\n",
       "    </tr>\n",
       "    <tr>\n",
       "      <th>404279</th>\n",
       "      <td>404279</td>\n",
       "      <td>What is the minimum time required to build a f...</td>\n",
       "      <td>What is a cheaper and quicker way to build an ...</td>\n",
       "      <td>0</td>\n",
       "    </tr>\n",
       "    <tr>\n",
       "      <th>404281</th>\n",
       "      <td>404281</td>\n",
       "      <td>Why is Manaphy childish in Pokémon Ranger and ...</td>\n",
       "      <td>Why is Manaphy annoying in Pokemon ranger and ...</td>\n",
       "      <td>1</td>\n",
       "    </tr>\n",
       "    <tr>\n",
       "      <th>404283</th>\n",
       "      <td>404283</td>\n",
       "      <td>What do you think of the removal of the MagSaf...</td>\n",
       "      <td>What will the CPU upgrade to the 2016 Apple Ma...</td>\n",
       "      <td>0</td>\n",
       "    </tr>\n",
       "    <tr>\n",
       "      <th>404285</th>\n",
       "      <td>404285</td>\n",
       "      <td>How many keywords are there in the Racket prog...</td>\n",
       "      <td>How many keywords are there in PERL Programmin...</td>\n",
       "      <td>0</td>\n",
       "    </tr>\n",
       "    <tr>\n",
       "      <th>404288</th>\n",
       "      <td>404288</td>\n",
       "      <td>What is the approx annual cost of living while...</td>\n",
       "      <td>I am having little hairfall problem but I want...</td>\n",
       "      <td>0</td>\n",
       "    </tr>\n",
       "  </tbody>\n",
       "</table>\n",
       "<p>91218 rows × 4 columns</p>\n",
       "</div>"
      ],
      "text/plain": [
       "            id                                          question1  \\\n",
       "5            5  Astrology: I am a Capricorn Sun Cap moon and c...   \n",
       "14          14  What are the laws to change your status from a...   \n",
       "15          15  What would a Trump presidency mean for current...   \n",
       "18          18  Why are so many Quora users posting questions ...   \n",
       "25          25  What are some tips on making it through the jo...   \n",
       "...        ...                                                ...   \n",
       "404279  404279  What is the minimum time required to build a f...   \n",
       "404281  404281  Why is Manaphy childish in Pokémon Ranger and ...   \n",
       "404283  404283  What do you think of the removal of the MagSaf...   \n",
       "404285  404285  How many keywords are there in the Racket prog...   \n",
       "404288  404288  What is the approx annual cost of living while...   \n",
       "\n",
       "                                                question2  is_duplicate  \n",
       "5       I'm a triple Capricorn (Sun, Moon and ascendan...             1  \n",
       "14      What are the laws to change your status from a...             0  \n",
       "15      How will a Trump presidency affect the student...             1  \n",
       "18      Why do people ask Quora questions which can be...             1  \n",
       "25      What are some tips on making it through the jo...             0  \n",
       "...                                                   ...           ...  \n",
       "404279  What is a cheaper and quicker way to build an ...             0  \n",
       "404281  Why is Manaphy annoying in Pokemon ranger and ...             1  \n",
       "404283  What will the CPU upgrade to the 2016 Apple Ma...             0  \n",
       "404285  How many keywords are there in PERL Programmin...             0  \n",
       "404288  I am having little hairfall problem but I want...             0  \n",
       "\n",
       "[91218 rows x 4 columns]"
      ]
     },
     "execution_count": 15,
     "metadata": {},
     "output_type": "execute_result"
    }
   ],
   "source": [
    "df_cln = df[(df.question1.str.len()>60) & (df.question2.str.len()>60) & (df.question1.str.len()<268) & (df.question2.str.len()<268)].drop(columns=['qid1', 'qid2'])\n",
    "df_cln"
   ]
  },
  {
   "cell_type": "code",
   "execution_count": 29,
   "id": "b6e9a914-cb81-4615-bc2a-3b1bf956cdee",
   "metadata": {},
   "outputs": [
    {
     "name": "stdout",
     "output_type": "stream",
     "text": [
      "train df shape (73011, 4)\n",
      "test df shape (18207, 4)\n"
     ]
    }
   ],
   "source": [
    "import numpy as np\n",
    "np.random.seed(random_state)\n",
    "msk = np.random.rand(len(df_cln)) < 0.8\n",
    "df_cln_train = df_cln[msk]\n",
    "df_cln_test = df_cln[~msk]\n",
    "print('train df shape', df_cln_train.shape)\n",
    "print('test df shape', df_cln_test.shape)\n",
    "\n",
    "df_cln_train.to_csv('../data/quora_dq_train.csv', index=False)\n",
    "df_cln_test.to_csv('../data/quora_dq_test.csv', index=False)\n",
    "\n",
    "df_cln_test[df_cln_test['is_duplicate']==1].to_csv('../data/quora_dq_test_true.csv', index=False)\n",
    "df_cln_test[df_cln_test['is_duplicate']==0].to_csv('../data/quora_dq_test_false.csv', index=False)\n",
    "\n",
    "df_cln_train.sample(100).to_csv('../data/quora_dq_train_100.csv', index=False)\n",
    "df_cln_train.sample(1000).to_csv('../data/quora_dq_train_1000.csv', index=False)\n",
    "df_cln_train.sample(10000).to_csv('../data/quora_dq_train_10000.csv', index=False)"
   ]
  },
  {
   "cell_type": "code",
   "execution_count": 17,
   "id": "3a3447f2-4caf-46cc-aa8a-0ef4863df239",
   "metadata": {},
   "outputs": [
    {
     "data": {
      "text/html": [
       "<div>\n",
       "<style scoped>\n",
       "    .dataframe tbody tr th:only-of-type {\n",
       "        vertical-align: middle;\n",
       "    }\n",
       "\n",
       "    .dataframe tbody tr th {\n",
       "        vertical-align: top;\n",
       "    }\n",
       "\n",
       "    .dataframe thead th {\n",
       "        text-align: right;\n",
       "    }\n",
       "</style>\n",
       "<table border=\"1\" class=\"dataframe\">\n",
       "  <thead>\n",
       "    <tr style=\"text-align: right;\">\n",
       "      <th></th>\n",
       "      <th>id</th>\n",
       "      <th>question1</th>\n",
       "      <th>question2</th>\n",
       "    </tr>\n",
       "    <tr>\n",
       "      <th>is_duplicate</th>\n",
       "      <th></th>\n",
       "      <th></th>\n",
       "      <th></th>\n",
       "    </tr>\n",
       "  </thead>\n",
       "  <tbody>\n",
       "    <tr>\n",
       "      <th>0</th>\n",
       "      <td>52775</td>\n",
       "      <td>52775</td>\n",
       "      <td>52775</td>\n",
       "    </tr>\n",
       "    <tr>\n",
       "      <th>1</th>\n",
       "      <td>20236</td>\n",
       "      <td>20236</td>\n",
       "      <td>20236</td>\n",
       "    </tr>\n",
       "  </tbody>\n",
       "</table>\n",
       "</div>"
      ],
      "text/plain": [
       "                 id  question1  question2\n",
       "is_duplicate                             \n",
       "0             52775      52775      52775\n",
       "1             20236      20236      20236"
      ]
     },
     "execution_count": 17,
     "metadata": {},
     "output_type": "execute_result"
    }
   ],
   "source": [
    "df_cln_train.groupby('is_duplicate').count()"
   ]
  },
  {
   "cell_type": "code",
   "execution_count": 18,
   "id": "12f226f7-e9f9-4964-9166-96976cedf0f9",
   "metadata": {},
   "outputs": [
    {
     "data": {
      "text/html": [
       "<div>\n",
       "<style scoped>\n",
       "    .dataframe tbody tr th:only-of-type {\n",
       "        vertical-align: middle;\n",
       "    }\n",
       "\n",
       "    .dataframe tbody tr th {\n",
       "        vertical-align: top;\n",
       "    }\n",
       "\n",
       "    .dataframe thead th {\n",
       "        text-align: right;\n",
       "    }\n",
       "</style>\n",
       "<table border=\"1\" class=\"dataframe\">\n",
       "  <thead>\n",
       "    <tr style=\"text-align: right;\">\n",
       "      <th></th>\n",
       "      <th>id</th>\n",
       "      <th>question1</th>\n",
       "      <th>question2</th>\n",
       "    </tr>\n",
       "    <tr>\n",
       "      <th>is_duplicate</th>\n",
       "      <th></th>\n",
       "      <th></th>\n",
       "      <th></th>\n",
       "    </tr>\n",
       "  </thead>\n",
       "  <tbody>\n",
       "    <tr>\n",
       "      <th>0</th>\n",
       "      <td>65914</td>\n",
       "      <td>65914</td>\n",
       "      <td>65914</td>\n",
       "    </tr>\n",
       "    <tr>\n",
       "      <th>1</th>\n",
       "      <td>25304</td>\n",
       "      <td>25304</td>\n",
       "      <td>25304</td>\n",
       "    </tr>\n",
       "  </tbody>\n",
       "</table>\n",
       "</div>"
      ],
      "text/plain": [
       "                 id  question1  question2\n",
       "is_duplicate                             \n",
       "0             65914      65914      65914\n",
       "1             25304      25304      25304"
      ]
     },
     "execution_count": 18,
     "metadata": {},
     "output_type": "execute_result"
    }
   ],
   "source": [
    "df_cln.groupby('is_duplicate').count()"
   ]
  },
  {
   "cell_type": "code",
   "execution_count": 19,
   "id": "575e3e55-5a46-40e6-9404-69e5d7b1d077",
   "metadata": {},
   "outputs": [
    {
     "data": {
      "text/plain": [
       "count    65914.000000\n",
       "mean        94.698805\n",
       "std         29.570032\n",
       "min         61.000000\n",
       "25%         72.000000\n",
       "50%         86.000000\n",
       "75%        110.000000\n",
       "max        267.000000\n",
       "Name: question1, dtype: float64"
      ]
     },
     "execution_count": 19,
     "metadata": {},
     "output_type": "execute_result"
    }
   ],
   "source": [
    "df_cln[df_cln['is_duplicate']==0].question1.str.len().describe()"
   ]
  },
  {
   "cell_type": "code",
   "execution_count": 20,
   "id": "8372923b-6bda-4cf8-874d-1fd546e33a1e",
   "metadata": {},
   "outputs": [
    {
     "data": {
      "text/plain": [
       "count    25304.000000\n",
       "mean        87.844293\n",
       "std         23.358276\n",
       "min         61.000000\n",
       "25%         70.000000\n",
       "50%         82.000000\n",
       "75%         98.000000\n",
       "max        267.000000\n",
       "Name: question1, dtype: float64"
      ]
     },
     "execution_count": 20,
     "metadata": {},
     "output_type": "execute_result"
    }
   ],
   "source": [
    "df_cln[df_cln['is_duplicate']==1].question1.str.len().describe()"
   ]
  },
  {
   "cell_type": "code",
   "execution_count": 21,
   "id": "740b9e65-e35b-45da-ac07-31b76357916b",
   "metadata": {},
   "outputs": [
    {
     "data": {
      "text/html": [
       "<div>\n",
       "<style scoped>\n",
       "    .dataframe tbody tr th:only-of-type {\n",
       "        vertical-align: middle;\n",
       "    }\n",
       "\n",
       "    .dataframe tbody tr th {\n",
       "        vertical-align: top;\n",
       "    }\n",
       "\n",
       "    .dataframe thead th {\n",
       "        text-align: right;\n",
       "    }\n",
       "</style>\n",
       "<table border=\"1\" class=\"dataframe\">\n",
       "  <thead>\n",
       "    <tr style=\"text-align: right;\">\n",
       "      <th></th>\n",
       "      <th>id</th>\n",
       "      <th>question1</th>\n",
       "      <th>question2</th>\n",
       "      <th>is_duplicate</th>\n",
       "    </tr>\n",
       "  </thead>\n",
       "  <tbody>\n",
       "  </tbody>\n",
       "</table>\n",
       "</div>"
      ],
      "text/plain": [
       "Empty DataFrame\n",
       "Columns: [id, question1, question2, is_duplicate]\n",
       "Index: []"
      ]
     },
     "execution_count": 21,
     "metadata": {},
     "output_type": "execute_result"
    }
   ],
   "source": [
    "df_cln[(df_cln.question1.str.len()<12)]"
   ]
  },
  {
   "cell_type": "code",
   "execution_count": null,
   "id": "da199142-4e72-45de-b651-246327fb9d43",
   "metadata": {},
   "outputs": [],
   "source": []
  },
  {
   "cell_type": "code",
   "execution_count": 22,
   "id": "5920d2bf-9483-4926-905c-d310cb9edb27",
   "metadata": {},
   "outputs": [
    {
     "data": {
      "text/plain": [
       "'What is the step by step guide to invest in share market in india?'"
      ]
     },
     "execution_count": 22,
     "metadata": {},
     "output_type": "execute_result"
    }
   ],
   "source": [
    "df.iloc[0].question1"
   ]
  },
  {
   "cell_type": "code",
   "execution_count": 23,
   "id": "f23e47a4-be7c-454f-8940-c56fa3b983fb",
   "metadata": {},
   "outputs": [
    {
     "data": {
      "text/plain": [
       "'What is the step by step guide to invest in share market?'"
      ]
     },
     "execution_count": 23,
     "metadata": {},
     "output_type": "execute_result"
    }
   ],
   "source": [
    "df.iloc[0].question2"
   ]
  },
  {
   "cell_type": "code",
   "execution_count": 24,
   "id": "31659c21-e15e-4d4d-bb58-9ce1fe35bcc1",
   "metadata": {},
   "outputs": [
    {
     "data": {
      "text/html": [
       "<div>\n",
       "<style scoped>\n",
       "    .dataframe tbody tr th:only-of-type {\n",
       "        vertical-align: middle;\n",
       "    }\n",
       "\n",
       "    .dataframe tbody tr th {\n",
       "        vertical-align: top;\n",
       "    }\n",
       "\n",
       "    .dataframe thead th {\n",
       "        text-align: right;\n",
       "    }\n",
       "</style>\n",
       "<table border=\"1\" class=\"dataframe\">\n",
       "  <thead>\n",
       "    <tr style=\"text-align: right;\">\n",
       "      <th></th>\n",
       "      <th>id</th>\n",
       "      <th>qid1</th>\n",
       "      <th>qid2</th>\n",
       "      <th>question1</th>\n",
       "      <th>question2</th>\n",
       "      <th>is_duplicate</th>\n",
       "    </tr>\n",
       "  </thead>\n",
       "  <tbody>\n",
       "    <tr>\n",
       "      <th>0</th>\n",
       "      <td>0</td>\n",
       "      <td>1</td>\n",
       "      <td>2</td>\n",
       "      <td>What is the step by step guide to invest in sh...</td>\n",
       "      <td>What is the step by step guide to invest in sh...</td>\n",
       "      <td>0</td>\n",
       "    </tr>\n",
       "  </tbody>\n",
       "</table>\n",
       "</div>"
      ],
      "text/plain": [
       "   id  qid1  qid2                                          question1  \\\n",
       "0   0     1     2  What is the step by step guide to invest in sh...   \n",
       "\n",
       "                                           question2  is_duplicate  \n",
       "0  What is the step by step guide to invest in sh...             0  "
      ]
     },
     "execution_count": 24,
     "metadata": {},
     "output_type": "execute_result"
    }
   ],
   "source": [
    "df[df.qid1==1]"
   ]
  },
  {
   "cell_type": "code",
   "execution_count": 25,
   "id": "31d8d0f9-8add-41cf-bfc3-079bf9f4006e",
   "metadata": {},
   "outputs": [
    {
     "data": {
      "text/plain": [
       "0.8348370956800653"
      ]
     },
     "execution_count": 25,
     "metadata": {},
     "output_type": "execute_result"
    }
   ],
   "source": [
    "df[df.is_duplicate==0].qid1.nunique() / df[df.is_duplicate==0].shape[0]"
   ]
  },
  {
   "cell_type": "code",
   "execution_count": 26,
   "id": "4a937873-7fd1-43fa-a228-90dcdeb75dba",
   "metadata": {},
   "outputs": [
    {
     "data": {
      "text/html": [
       "<div>\n",
       "<style scoped>\n",
       "    .dataframe tbody tr th:only-of-type {\n",
       "        vertical-align: middle;\n",
       "    }\n",
       "\n",
       "    .dataframe tbody tr th {\n",
       "        vertical-align: top;\n",
       "    }\n",
       "\n",
       "    .dataframe thead th {\n",
       "        text-align: right;\n",
       "    }\n",
       "</style>\n",
       "<table border=\"1\" class=\"dataframe\">\n",
       "  <thead>\n",
       "    <tr style=\"text-align: right;\">\n",
       "      <th></th>\n",
       "      <th>id</th>\n",
       "      <th>qid1</th>\n",
       "      <th>qid2</th>\n",
       "      <th>question1</th>\n",
       "      <th>question2</th>\n",
       "      <th>is_duplicate</th>\n",
       "    </tr>\n",
       "  </thead>\n",
       "  <tbody>\n",
       "    <tr>\n",
       "      <th>275213</th>\n",
       "      <td>275213</td>\n",
       "      <td>225999</td>\n",
       "      <td>314424</td>\n",
       "      <td>What are the most important things VCs look fo...</td>\n",
       "      <td>What do you look for in a startup before inves...</td>\n",
       "      <td>1</td>\n",
       "    </tr>\n",
       "    <tr>\n",
       "      <th>6559</th>\n",
       "      <td>6559</td>\n",
       "      <td>12843</td>\n",
       "      <td>12844</td>\n",
       "      <td>What is the best music album of all time?</td>\n",
       "      <td>What is the Best album ever?</td>\n",
       "      <td>1</td>\n",
       "    </tr>\n",
       "    <tr>\n",
       "      <th>303621</th>\n",
       "      <td>303621</td>\n",
       "      <td>105702</td>\n",
       "      <td>426780</td>\n",
       "      <td>What is cloud computing? How does it work?</td>\n",
       "      <td>What is cloud computing?</td>\n",
       "      <td>1</td>\n",
       "    </tr>\n",
       "    <tr>\n",
       "      <th>315800</th>\n",
       "      <td>315800</td>\n",
       "      <td>57489</td>\n",
       "      <td>10011</td>\n",
       "      <td>How can I grow a few inches taller?</td>\n",
       "      <td>In what ways can I grow taller?</td>\n",
       "      <td>1</td>\n",
       "    </tr>\n",
       "    <tr>\n",
       "      <th>119426</th>\n",
       "      <td>119426</td>\n",
       "      <td>193919</td>\n",
       "      <td>193920</td>\n",
       "      <td>Why do women enjoy penetration?</td>\n",
       "      <td>Why do women like to be penetrated?</td>\n",
       "      <td>1</td>\n",
       "    </tr>\n",
       "  </tbody>\n",
       "</table>\n",
       "</div>"
      ],
      "text/plain": [
       "            id    qid1    qid2  \\\n",
       "275213  275213  225999  314424   \n",
       "6559      6559   12843   12844   \n",
       "303621  303621  105702  426780   \n",
       "315800  315800   57489   10011   \n",
       "119426  119426  193919  193920   \n",
       "\n",
       "                                                question1  \\\n",
       "275213  What are the most important things VCs look fo...   \n",
       "6559            What is the best music album of all time?   \n",
       "303621         What is cloud computing? How does it work?   \n",
       "315800                How can I grow a few inches taller?   \n",
       "119426                    Why do women enjoy penetration?   \n",
       "\n",
       "                                                question2  is_duplicate  \n",
       "275213  What do you look for in a startup before inves...             1  \n",
       "6559                         What is the Best album ever?             1  \n",
       "303621                           What is cloud computing?             1  \n",
       "315800                    In what ways can I grow taller?             1  \n",
       "119426                Why do women like to be penetrated?             1  "
      ]
     },
     "execution_count": 26,
     "metadata": {},
     "output_type": "execute_result"
    }
   ],
   "source": [
    "df[df.is_duplicate==1].sample(5)"
   ]
  },
  {
   "cell_type": "code",
   "execution_count": null,
   "id": "6a33381f-fa27-4214-8b56-24021344f85b",
   "metadata": {},
   "outputs": [],
   "source": []
  }
 ],
 "metadata": {
  "kernelspec": {
   "display_name": "llm",
   "language": "python",
   "name": "llm"
  },
  "language_info": {
   "codemirror_mode": {
    "name": "ipython",
    "version": 3
   },
   "file_extension": ".py",
   "mimetype": "text/x-python",
   "name": "python",
   "nbconvert_exporter": "python",
   "pygments_lexer": "ipython3",
   "version": "3.11.4"
  }
 },
 "nbformat": 4,
 "nbformat_minor": 5
}
